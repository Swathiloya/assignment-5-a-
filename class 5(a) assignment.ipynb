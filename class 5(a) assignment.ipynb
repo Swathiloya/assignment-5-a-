{
 "cells": [
  {
   "cell_type": "code",
   "execution_count": 1,
   "id": "386e0c2c",
   "metadata": {},
   "outputs": [],
   "source": [
    "#3. Create a dict with your family members(at least 10 names)?\n",
    "#expected output : { \"family_members\" : your family member details}\n"
   ]
  },
  {
   "cell_type": "code",
   "execution_count": 2,
   "id": "84d63141",
   "metadata": {},
   "outputs": [],
   "source": [
    "dict={\"family_members\":[\"venkataraju\",\"dhanalakshmi\",\"gopalakrishna\",\"dasaradharamayya\",\"nagedramma\",\"bhogiraju\",\"nagajyothi\",\"lakshmana\",\"umadevi\",\"poojitha\"]}"
   ]
  },
  {
   "cell_type": "code",
   "execution_count": 3,
   "id": "8657599d",
   "metadata": {},
   "outputs": [
    {
     "name": "stdout",
     "output_type": "stream",
     "text": [
      "{'family_members': ['venkataraju', 'dhanalakshmi', 'gopalakrishna', 'dasaradharamayya', 'nagedramma', 'bhogiraju', 'nagajyothi', 'lakshmana', 'umadevi', 'poojitha']}\n"
     ]
    }
   ],
   "source": [
    "print(dict)"
   ]
  },
  {
   "cell_type": "code",
   "execution_count": 4,
   "id": "da4e3396",
   "metadata": {},
   "outputs": [],
   "source": [
    "#4: Create a dict with your family members and relations(at least 10 names and relations)?\n",
    "#Expected output: { \"family_members\" : your family member details , \"relations\": your relation with your family member}\n",
    "#write a program to print your father name?\n",
    "#write a program to print your favorite family member name?\n"
   ]
  },
  {
   "cell_type": "code",
   "execution_count": 5,
   "id": "8d66c311",
   "metadata": {},
   "outputs": [],
   "source": [
    "dict={\"family_members\":[\"venkataraju\",\"dhanalakshmi\",\"gopalakrishna\",\"dasaradharamayya\",\"nagedramma\",\"bhogiraju\",\"nagajyothi\",\"lakshmana\",\"umadevi\",\"poojitha\"],\"relation\":[\"father\",\"mother\",\"brother\",\"grandfather\",\"grandmother\",\"brother-in-law\",\"sister\",\"uncel\",\"unt\",\"sister\"]}"
   ]
  },
  {
   "cell_type": "code",
   "execution_count": 6,
   "id": "166f4bdf",
   "metadata": {},
   "outputs": [
    {
     "name": "stdout",
     "output_type": "stream",
     "text": [
      "{'family_members': ['venkataraju', 'dhanalakshmi', 'gopalakrishna', 'dasaradharamayya', 'nagedramma', 'bhogiraju', 'nagajyothi', 'lakshmana', 'umadevi', 'poojitha'], 'relation': ['father', 'mother', 'brother', 'grandfather', 'grandmother', 'brother-in-law', 'sister', 'uncel', 'unt', 'sister']}\n"
     ]
    }
   ],
   "source": [
    "print(dict)"
   ]
  },
  {
   "cell_type": "code",
   "execution_count": 7,
   "id": "e03f3335",
   "metadata": {},
   "outputs": [],
   "source": [
    "#write a program to print your father name?"
   ]
  },
  {
   "cell_type": "code",
   "execution_count": 8,
   "id": "39d666ae",
   "metadata": {},
   "outputs": [
    {
     "name": "stdout",
     "output_type": "stream",
     "text": [
      "my father name is venkataraju\n"
     ]
    }
   ],
   "source": [
    "print(\"my father name is\",dict[\"family_members\"][0])"
   ]
  },
  {
   "cell_type": "code",
   "execution_count": 9,
   "id": "13f932b0",
   "metadata": {},
   "outputs": [],
   "source": [
    "#write a program to print your favorite family member name?"
   ]
  },
  {
   "cell_type": "code",
   "execution_count": 10,
   "id": "77d5ce9e",
   "metadata": {},
   "outputs": [
    {
     "name": "stdout",
     "output_type": "stream",
     "text": [
      "my favorite  family member names is gopalakrishna\n"
     ]
    }
   ],
   "source": [
    "print(\"my favorite  family member names is\",dict[\"family_members\"][2])"
   ]
  },
  {
   "cell_type": "code",
   "execution_count": 11,
   "id": "f1137331",
   "metadata": {},
   "outputs": [],
   "source": [
    "#5: Create a your friend names and their quality(at least 10 names)?\n",
    "#Expected output: {\"friend_names\" : your friend names, \"quality\" : your friend quality}\n",
    "#Example outpuwrite a progrt: {\"friend_names\": [\"ravi\",\"shekar\", \"abbas\",\"jhonny\"], \"quality\" : [\"talk active\", \"anger\", \"intelligent\", \"funny\"]}\n",
    "#write a program to print your intelligent friend name?\n",
    "#write a program to print your best friend name?\n"
   ]
  },
  {
   "cell_type": "code",
   "execution_count": 22,
   "id": "ee5611f8",
   "metadata": {},
   "outputs": [],
   "source": [
    "dict={\"friend_names\":[\"anitha\",\"vanaja\",\"sivadevi\",\"prasanna\",\"vanitha\",\"anusha\",\"poojitha\",\"sruthi\",\"mamatha\",\"manasa\"],\"quality\":[\"clever\",\"funny\",\"active\",\"intelligent\",\"anger\",\"funny\",\"active\",\"talk\",\"anger\",\"funny\"]}"
   ]
  },
  {
   "cell_type": "code",
   "execution_count": 23,
   "id": "b9525e04",
   "metadata": {},
   "outputs": [
    {
     "name": "stdout",
     "output_type": "stream",
     "text": [
      "{'friend_names': ['anitha', 'vanaja', 'sivadevi', 'prasanna', 'vanitha', 'anusha', 'poojitha', 'sruthi', 'mamatha', 'manasa'], 'quality': ['clever', 'funny', 'active', 'intelligent', 'anger', 'funny', 'active', 'talk', 'anger', 'funny']}\n"
     ]
    }
   ],
   "source": [
    "print(dict)"
   ]
  },
  {
   "cell_type": "code",
   "execution_count": 24,
   "id": "645b6da3",
   "metadata": {},
   "outputs": [],
   "source": [
    "#write a program to print your intelligent friend name?\n"
   ]
  },
  {
   "cell_type": "code",
   "execution_count": 25,
   "id": "e80d931d",
   "metadata": {},
   "outputs": [
    {
     "name": "stdout",
     "output_type": "stream",
     "text": [
      "intelligent friend name is anitha\n"
     ]
    }
   ],
   "source": [
    "print(\"intelligent friend name is\",dict[\"friend_names\"][0])"
   ]
  },
  {
   "cell_type": "code",
   "execution_count": null,
   "id": "608fb122",
   "metadata": {},
   "outputs": [],
   "source": [
    "#write a program to print your best friend name?\n"
   ]
  },
  {
   "cell_type": "code",
   "execution_count": 26,
   "id": "82c04a0c",
   "metadata": {},
   "outputs": [
    {
     "name": "stdout",
     "output_type": "stream",
     "text": [
      "my best friend name is vanaja\n"
     ]
    }
   ],
   "source": [
    "print(\"my best friend name is\",dict[\"friend_names\"][1])"
   ]
  },
  {
   "cell_type": "code",
   "execution_count": null,
   "id": "5f0ccece",
   "metadata": {},
   "outputs": [],
   "source": [
    "#6: Create a your favorite food names and your rating(at least 10 names)?\n",
    "#Expected output: {\"veg_items\" : food names, \"rating\" : your rating}\n",
    "#{\"nonveg_items\" : food names, \"rating\" : your rating}\n",
    "#write a program to print your rating 1 food name?\n"
   ]
  },
  {
   "cell_type": "code",
   "execution_count": 2,
   "id": "39efcf2a",
   "metadata": {},
   "outputs": [],
   "source": [
    "dict={\"veg_items\":[\"tomato\",\"brinjal\",\"potato\",\"angulargourds\",\"ladysfinger\",\"cucumber\",\"carrot\",\"snakegourds\",\"bottlegourds\",\"gherkins\"],\"rating\":[1,2,3,4,5,6,7,8,9,10]}"
   ]
  },
  {
   "cell_type": "code",
   "execution_count": 3,
   "id": "0de39f79",
   "metadata": {},
   "outputs": [
    {
     "name": "stdout",
     "output_type": "stream",
     "text": [
      "{'veg_items': ['tomato', 'brinjal', 'potato', 'angulargourds', 'ladysfinger', 'cucumber', 'carrot', 'snakegourds', 'bottlegourds', 'gherkins'], 'rating': [1, 2, 3, 4, 5, 6, 7, 8, 9, 10]}\n"
     ]
    }
   ],
   "source": [
    "print(dict)"
   ]
  },
  {
   "cell_type": "code",
   "execution_count": 4,
   "id": "f115dfc6",
   "metadata": {},
   "outputs": [
    {
     "name": "stdout",
     "output_type": "stream",
     "text": [
      "rating 1 food name is tomato\n"
     ]
    }
   ],
   "source": [
    "print(\"rating 1 food name is\",dict[\"veg_items\"][0])"
   ]
  },
  {
   "cell_type": "code",
   "execution_count": null,
   "id": "612639ff",
   "metadata": {},
   "outputs": [],
   "source": [
    "#{\"nonveg_items\" : food names, \"rating\" : your rating}"
   ]
  },
  {
   "cell_type": "code",
   "execution_count": 20,
   "id": "dda6a365",
   "metadata": {},
   "outputs": [],
   "source": [
    "dict={\"nonveg_items\":[\"chicken\",\"mutton\",\"egg\",\"fish\",\"beef\",\"prawns\",\"crabs\",\"muttonbiryani\",\"chickenbiryani\",\"thandoori\"],\"rating\":[1,2,3,4,5,6,7,8,9,10]}"
   ]
  },
  {
   "cell_type": "code",
   "execution_count": 21,
   "id": "3dd0948c",
   "metadata": {},
   "outputs": [
    {
     "name": "stdout",
     "output_type": "stream",
     "text": [
      "{'nonveg_items': ['chicken', 'mutton', 'egg', 'fish', 'beef', 'prawns', 'crabs', 'muttonbiryani', 'chickenbiryani', 'thandoori'], 'rating': [1, 2, 3, 4, 5, 6, 7, 8, 9, 10]}\n"
     ]
    }
   ],
   "source": [
    "print(dict)"
   ]
  },
  {
   "cell_type": "code",
   "execution_count": 20,
   "id": "6c632c3a",
   "metadata": {},
   "outputs": [
    {
     "name": "stdout",
     "output_type": "stream",
     "text": [
      "rating 1 food name is thandoori\n"
     ]
    }
   ],
   "source": [
    "print(\"rating 1 food name is\",dict[\"nonveg_items\"][9])"
   ]
  },
  {
   "cell_type": "code",
   "execution_count": null,
   "id": "172a0513",
   "metadata": {},
   "outputs": [],
   "source": [
    "\n",
    "#7: Create a your favorite destination(cities) names and your rating(at least 10 names)?\n",
    "#Expected output: {\"destination\" : cities name, \"rating\" : your rating}\n"
   ]
  },
  {
   "cell_type": "code",
   "execution_count": 27,
   "id": "5cbd9093",
   "metadata": {},
   "outputs": [],
   "source": [
    "dict={\"destination\":[\"machilipatnam\",\"vijayawada\",\"hyderabad\",\"guntur\",\"channai\",\"bangalore\",\"goa\",\"ooty\",\"vizag\",\"westgodavari\"],\"rating\":[1,2,3,4,5,6,7,8,9,10]}"
   ]
  },
  {
   "cell_type": "code",
   "execution_count": 28,
   "id": "781fbb99",
   "metadata": {},
   "outputs": [
    {
     "name": "stdout",
     "output_type": "stream",
     "text": [
      "{'destination': ['machilipatnam', 'vijayawada', 'hyderabad', 'guntur', 'channai', 'bangalore', 'goa', 'ooty', 'vizag', 'westgodavari'], 'rating': [1, 2, 3, 4, 5, 6, 7, 8, 9, 10]}\n"
     ]
    }
   ],
   "source": [
    "print(dict)"
   ]
  },
  {
   "cell_type": "code",
   "execution_count": null,
   "id": "4ea56080",
   "metadata": {},
   "outputs": [],
   "source": [
    "\n",
    "#8: Create a your favorite destination(cities) names and your rating(at least 10 names)?\n",
    "#Expected output: {\"destination\" : cities name, \"rating\" : your rating}\n",
    "#write a program to print your rating 3 city name?"
   ]
  },
  {
   "cell_type": "code",
   "execution_count": 17,
   "id": "12f4c169",
   "metadata": {},
   "outputs": [],
   "source": [
    "dict={\"destination\":[\"machilipatnam\",\"vijayawada\",\"hyderabad\",\"guntur\",\"channai\",\"bangalore\",\"goa\",\"ooty\",\"vizag\",\"westgodavari\"],\"rating\":[1,2,3,4,5,6,7,8,9,10]}"
   ]
  },
  {
   "cell_type": "code",
   "execution_count": 18,
   "id": "ccc5e747",
   "metadata": {
    "scrolled": true
   },
   "outputs": [
    {
     "name": "stdout",
     "output_type": "stream",
     "text": [
      "{'destination': ['machilipatnam', 'vijayawada', 'hyderabad', 'guntur', 'channai', 'bangalore', 'goa', 'ooty', 'vizag', 'westgodavari'], 'rating': [1, 2, 3, 4, 5, 6, 7, 8, 9, 10]}\n"
     ]
    }
   ],
   "source": [
    "print(dict)"
   ]
  },
  {
   "cell_type": "code",
   "execution_count": null,
   "id": "ddbf5c0f",
   "metadata": {},
   "outputs": [],
   "source": [
    "#write a program to print your rating 3 city name?"
   ]
  },
  {
   "cell_type": "code",
   "execution_count": 19,
   "id": "4e7df47c",
   "metadata": {},
   "outputs": [
    {
     "name": "stdout",
     "output_type": "stream",
     "text": [
      "rating 3 destination name is hyderabad\n"
     ]
    }
   ],
   "source": [
    "print(\"rating 3 destination name is\",dict[\"destination\"][2])"
   ]
  }
 ],
 "metadata": {
  "kernelspec": {
   "display_name": "Python 3 (ipykernel)",
   "language": "python",
   "name": "python3"
  },
  "language_info": {
   "codemirror_mode": {
    "name": "ipython",
    "version": 3
   },
   "file_extension": ".py",
   "mimetype": "text/x-python",
   "name": "python",
   "nbconvert_exporter": "python",
   "pygments_lexer": "ipython3",
   "version": "3.10.9"
  }
 },
 "nbformat": 4,
 "nbformat_minor": 5
}
